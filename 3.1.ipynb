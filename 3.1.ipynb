{
 "cells": [
  {
   "cell_type": "code",
   "execution_count": 10,
   "id": "857a545a",
   "metadata": {},
   "outputs": [
    {
     "name": "stdout",
     "output_type": "stream",
     "text": [
      "[('Variable', 'x'), ('Sub', '-'), ('Int', '5'), ('Div', '/'), ('Group', '('), ('Variable', 'a'), ('Sub', '-'), ('Float', '12.9'), ('Group', ')'), ('Group', '{'), ('Group', ']'), ('Group', '['), ('Group', '}'), ('Group', ']'), ('Group', '}')]\n"
     ]
    }
   ],
   "source": [
    "import re\n",
    "\n",
    "tokens = [\n",
    "    (r'\\+', 'Add'),\n",
    "    (r'-', 'Sub'),\n",
    "    (r'\\*', 'Mul'),\n",
    "    (r'/', 'Div'),\n",
    "    (r'%', 'Mod'),\n",
    "    (r'\\(', 'Group'),\n",
    "    (r'\\)', 'Group'),\n",
    "    (r'\\[', 'Group'),\n",
    "    (r'\\]', 'Group'),\n",
    "    (r'\\{', 'Group'),\n",
    "    (r'\\}', 'Group'),\n",
    "    (r'=', 'Assign'),\n",
    "    (r'==', 'Equal'),\n",
    "    (r'<', 'Lesa'),\n",
    "    (r'<=', 'LessEqual'),\n",
    "    (r'>', 'Great'),\n",
    "    (r'>=', 'GreatEqual'),\n",
    "    (r'&&', 'And'),\n",
    "    (r'\\|\\|', 'Or'),\n",
    "    (r'[a-zA-Z_][a-zA-Z0-9_]*', 'Variable'),\n",
    "    (r'\\d+\\.\\d+', 'Float'),\n",
    "    (r'\\d+', 'Int'),\n",
    "]\n",
    "\n",
    "tokens = [(re.compile(p[0]), p[1]) for p in tokens]\n",
    "\n",
    "def assign(code):\n",
    "    listoftokens = []\n",
    "    i = 0\n",
    "    while i < len(code):\n",
    "        match = None\n",
    "        for pattern, token_type in tokens:\n",
    "            match = pattern.match(code, i)\n",
    "            if match:\n",
    "                value = match.group(0)\n",
    "                if token_type:\n",
    "                    listoftokens.append((token_type, value))\n",
    "                break\n",
    "        if not match:\n",
    "            raise SyntaxError(f\"Invalid token: {code[i]}\")\n",
    "        else:\n",
    "            i = match.end()\n",
    "    return listoftokens\n",
    "\n",
    "Wheat = 'x-5/(a-12.9){][}]}'\n",
    "Corn = assign(Wheat)\n",
    "print(Corn)"
   ]
  },
  {
   "cell_type": "code",
   "execution_count": null,
   "id": "053a9a0f",
   "metadata": {},
   "outputs": [],
   "source": []
  }
 ],
 "metadata": {
  "kernelspec": {
   "display_name": "Python 3 (ipykernel)",
   "language": "python",
   "name": "python3"
  },
  "language_info": {
   "codemirror_mode": {
    "name": "ipython",
    "version": 3
   },
   "file_extension": ".py",
   "mimetype": "text/x-python",
   "name": "python",
   "nbconvert_exporter": "python",
   "pygments_lexer": "ipython3",
   "version": "3.9.13"
  }
 },
 "nbformat": 4,
 "nbformat_minor": 5
}
